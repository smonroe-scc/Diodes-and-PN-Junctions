{
 "cells": [
  {
   "cell_type": "code",
   "execution_count": 1,
   "metadata": {},
   "outputs": [],
   "source": [
    "import scipy.constants as const\n",
    "from numpy import exp\n",
    "import matplotlib.pyplot as plt"
   ]
  },
  {
   "cell_type": "markdown",
   "metadata": {},
   "source": [
    "The energetic width of the band gap $E_g \\thinspace$ determines the concentration of electrons in the conduction band and of holes in the valence band.<br><br>\n",
    "At a given temperature, the number of electrons and holes in the respective bands is equal.  This is known as the \"Mass Action Law\", and may be stated (symbolically) as $$n=p=n_i$$<br>"
   ]
  },
  {
   "cell_type": "markdown",
   "metadata": {},
   "source": [
    "# Diodes"
   ]
  },
  {
   "cell_type": "markdown",
   "metadata": {},
   "source": [
    "All diodes obey an exponential behavior law:"
   ]
  },
  {
   "cell_type": "markdown",
   "metadata": {},
   "source": [
    "$$\\chi={\\frac{V_D}{n \\cdot V_T}}$$<br>\n",
    "$$I_F=I_S\\left ( e^\\chi -1 \\right  )$$<br>\n",
    "<br>\n",
    "$$V_T=\\frac{kT}{q}$$"
   ]
  },
  {
   "cell_type": "markdown",
   "metadata": {},
   "source": [
    "Note that $n \\thinspace$ is what is known as the \"ideality coefficient\" or \"ideality factor\" ... when $n=2$, recombination current dominates, and when $n=1$ diffusion current dominates.  When both currents are comparable $n$ has a value between $1$ and $2$"
   ]
  },
  {
   "cell_type": "code",
   "execution_count": 2,
   "metadata": {},
   "outputs": [
    {
     "name": "stdout",
     "output_type": "stream",
     "text": [
      "0.025851991011651636\n"
     ]
    }
   ],
   "source": [
    "Temp=300.0\n",
    "VT=(const.k*Temp)/(const.e)\n",
    "print(VT)"
   ]
  },
  {
   "cell_type": "code",
   "execution_count": 3,
   "metadata": {},
   "outputs": [],
   "source": [
    "min=0.0\n",
    "max=0.7\n",
    "step=1.0E-3"
   ]
  },
  {
   "cell_type": "markdown",
   "metadata": {},
   "source": [
    "The saturation current, $I_S$ (or scale current), more accurately, the reverse saturation current, is that part of the reverse current in a semiconductor diode caused by diffusion of minority carriers from the neutral regions to the depletion region. This current is almost independent of the reverse voltage."
   ]
  },
  {
   "cell_type": "code",
   "execution_count": 4,
   "metadata": {},
   "outputs": [],
   "source": [
    "IS=1.0E-9 # Saturation current (UCL)\n",
    "n=1 # emission coeffieicnt at minima (LCL)"
   ]
  },
  {
   "cell_type": "code",
   "execution_count": 5,
   "metadata": {},
   "outputs": [],
   "source": [
    "Diode_Data_x = []\n",
    "Diode_Data_y = []\n",
    "\n",
    "\n",
    "VD = min\n",
    "while VD <= max:\n",
    "     IF=IS*(exp(VD/(n*VT)-1))\n",
    "     #print('{0:+06.4e}'.format(float(VD)),'{:+6.4e}'.format(float(IF)))\n",
    "     Diode_Data_x.append(VD)\n",
    "     Diode_Data_y.append(IF)\n",
    "     VD += step"
   ]
  },
  {
   "cell_type": "code",
   "execution_count": 6,
   "metadata": {},
   "outputs": [],
   "source": [
    "#print(Diode_Data_x,Diode_Data_y) Nope, nope, nope ... tl;dr"
   ]
  },
  {
   "cell_type": "code",
   "execution_count": 7,
   "metadata": {},
   "outputs": [
    {
     "data": {
      "image/png": "[encoded data removed]",
      "text/plain": [
       "<Figure size 432x288 with 1 Axes>"
      ]
     },
     "metadata": {
      "needs_background": "light"
     },
     "output_type": "display_data"
    }
   ],
   "source": [
    "plt.plot(Diode_Data_x, Diode_Data_y)\n",
    "\n",
    "\n",
    "#labels\n",
    "plt.xlabel(\"Diode Voltage (V)\")\n",
    "plt.ylabel(\"Forward Current (A)\")\n",
    "\n",
    "#title\n",
    "plt.title(\"Forward Voltage vs Forward Current\")\n",
    "\n",
    "\n",
    "#show plot\n",
    "plt.show()"
   ]
  },
  {
   "cell_type": "code",
   "execution_count": 8,
   "metadata": {},
   "outputs": [
    {
     "data": {
      "image/png": "[encoded data removed]",
      "text/plain": [
       "<Figure size 432x288 with 1 Axes>"
      ]
     },
     "metadata": {
      "needs_background": "light"
     },
     "output_type": "display_data"
    }
   ],
   "source": [
    "IS=1.0E-15 # Scale Current (LCL)\n",
    "n=2 # Emission coefficient (UCL)\n",
    "Diode_Data_x = []\n",
    "Diode_Data_y = []\n",
    "\n",
    "\n",
    "VD = min\n",
    "while VD <= max:\n",
    "     IF=IS*(exp(VD/(n*VT)-1))\n",
    "     #print('{0:+06.4e}'.format(float(VD)),'{:+6.4e}'.format(float(IF)))\n",
    "     Diode_Data_x.append(VD)\n",
    "     Diode_Data_y.append(IF)\n",
    "     VD += step\n",
    "\n",
    "plt.plot(Diode_Data_x, Diode_Data_y)\n",
    "\n",
    "\n",
    "#labels\n",
    "plt.xlabel(\"Diode Voltage (V)\")\n",
    "plt.ylabel(\"Forward Current (A)\")\n",
    "\n",
    "#title\n",
    "plt.title(\"Forward Voltage vs Forward Current\")\n",
    "\n",
    "#show plot\n",
    "plt.show()"
   ]
  },
  {
   "cell_type": "markdown",
   "metadata": {},
   "source": [
    "We have been saying that $E_g$ is \"the most important parameter in semiconductor physics.\"<br><br>Why is that?<br>  A lot of that importance has to do with the relationship,\n",
    "$$\\gamma={\\left ( \\frac{-E_g}{2kT} \\right )}$$<br>\n",
    "$$n_i=\\sqrt{N_c \\cdot N_v}\\cdot e^\\gamma$$"
   ]
  },
  {
   "cell_type": "code",
   "execution_count": 9,
   "metadata": {},
   "outputs": [],
   "source": [
    "from scipy import sqrt\n",
    "\n",
    "Diode_Energy_Data_x = []\n",
    "Diode_Energy_Data_y = []\n",
    "\n",
    "min=1.0\n",
    "max=1.17\n",
    "step=1.0E-3\n",
    "\n",
    "T=300\n",
    "k=8.617330350E-05 #in eV/K\n",
    "NC=2.82E19 #Effective density of states for electrons in the conduction band at 300 K\n",
    "NV=1.83E19 #Effective density of states for holes in the valence band at 300 K\n",
    "\n",
    "Eg = min\n",
    "#print(\" Eg(eV)       ni(cm^-3)\")\n",
    "#print(\"-----------------------\")\n",
    "while Eg <= max:\n",
    "         ni=sqrt(NC*NV)*exp(-Eg/(2*k*T))\n",
    "         #print('{0:+06.4e}'.format(float(Eg)),'{:+6.4e}'.format(float(ni)))\n",
    "         Diode_Energy_Data_x.append(Eg)\n",
    "         Diode_Energy_Data_y.append(ni)\n",
    "         Eg += step"
   ]
  },
  {
   "cell_type": "code",
   "execution_count": 10,
   "metadata": {},
   "outputs": [
    {
     "data": {
      "image/png": "[encoded data removed]",
      "text/plain": [
       "<Figure size 432x288 with 1 Axes>"
      ]
     },
     "metadata": {
      "needs_background": "light"
     },
     "output_type": "display_data"
    }
   ],
   "source": [
    "plt.plot(Diode_Energy_Data_x, Diode_Energy_Data_y)\n",
    "\n",
    "\n",
    "#labels\n",
    "plt.xlabel(\"Bandgap Energy (eV)\")\n",
    "plt.ylabel(\"Carrier density (X 1E11/cm^-3)\")\n",
    "\n",
    "#title\n",
    "plt.title(\"Bandgap Energy vs Carrier Density\")\n",
    "\n",
    "#show plot\n",
    "plt.show()"
   ]
  },
  {
   "cell_type": "markdown",
   "metadata": {},
   "source": [
    "Finally ... Up until this point we have been saying that \"there really are no so-called insulators - only poor conductors.\"  With the following few illustrations, we will transition away from this overly reductive model."
   ]
  },
  {
   "cell_type": "markdown",
   "metadata": {},
   "source": [
    "$E_G$ is the \"bandgap energy.\"  This is the separation between the energy of the lowest conduction band and that of the highest valence band is called the \"bandgap.\"  This is the most important parameter in semiconductor physics.  In the case of $Si$, the value of $E_G$ is $1.11eV$ at $300K$, and $1.16eV$ at $0K$."
   ]
  },
  {
   "cell_type": "markdown",
   "metadata": {},
   "source": [
    "Consider the energy bands of Conductors(Metal), Semiconductors(Si), and Insulators:"
   ]
  },
  {
   "cell_type": "markdown",
   "metadata": {},
   "source": [
    "![Energy Bands Compared](Energy_Bands_Compared.JPG)"
   ]
  },
  {
   "cell_type": "markdown",
   "metadata": {},
   "source": [
    "NB! $E_F$ is is the _Fermi (energy) level_, and can be considered to be a hypothetical energy level of an electron, such that at thermodynamic equilibrium this energy level would have a 50% probability of being occupied at any given time. "
   ]
  },
  {
   "cell_type": "markdown",
   "metadata": {},
   "source": [
    "Clearly, when viewed from this perspective, there are obviously classes of materials that have valence and conduction band overlap (conductors) and those that have a quite wide energy level bandgap (insulators)."
   ]
  }
 ],
 "metadata": {
  "kernelspec": {
   "display_name": "Python 3",
   "language": "python",
   "name": "python3"
  },
  "language_info": {
   "codemirror_mode": {
    "name": "ipython",
    "version": 3
   },
   "file_extension": ".py",
   "mimetype": "text/x-python",
   "name": "python",
   "nbconvert_exporter": "python",
   "pygments_lexer": "ipython3",
   "version": "3.7.4"
  }
 },
 "nbformat": 4,
 "nbformat_minor": 2
}
